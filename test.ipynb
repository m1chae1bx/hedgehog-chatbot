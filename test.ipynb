{
 "cells": [
  {
   "cell_type": "code",
   "execution_count": 5,
   "metadata": {},
   "outputs": [
    {
     "name": "stdout",
     "output_type": "stream",
     "text": [
      "('BRIEF-Neogen Reports Record Revenues And Earnings', '2018-01-03T15:49:00.000+02:00')\n",
      "('BRIEF-Neogen Reports Record Revenues And Earnings', '2018-01-03')\n"
     ]
    }
   ],
   "source": [
    "import sqlite3\n",
    "from typing import Tuple\n",
    "from datetime import datetime\n",
    "from contextlib import contextmanager\n",
    "\n",
    "SQLITE_DB_PATH = \"data/processed/sqlite_db/articles.db\"\n",
    "\n",
    "@contextmanager\n",
    "def sqlite_connection():\n",
    "    conn = sqlite3.connect(SQLITE_DB_PATH)\n",
    "    c = conn.cursor()\n",
    "    try:\n",
    "        yield c\n",
    "    finally:\n",
    "        conn.close()\n",
    "\n",
    "\n",
    "def fetch_article(article_id: int, c: sqlite3.Cursor) -> Tuple[str, str]:\n",
    "# def fetch_article(article_id: int, c: sqlite3.Cursor) -> str:\n",
    "    query = \"SELECT title, published FROM articles WHERE id = ?;\"\n",
    "    c.execute(query, (article_id,))\n",
    "    res = c.fetchone()\n",
    "    print(res)\n",
    "    title = res[0]\n",
    "    published = res[1].split(\"T\")[0]\n",
    "\n",
    "    # print(title, date)\n",
    "    # date_published = c.fetchone()[1]\n",
    "    # return title, date_published\n",
    "    return title, published\n",
    "\n",
    "\n",
    "with sqlite_connection() as c:\n",
    "    print(fetch_article(1, c))"
   ]
  }
 ],
 "metadata": {
  "kernelspec": {
   "display_name": "fnbc",
   "language": "python",
   "name": "python3"
  },
  "language_info": {
   "codemirror_mode": {
    "name": "ipython",
    "version": 3
   },
   "file_extension": ".py",
   "mimetype": "text/x-python",
   "name": "python",
   "nbconvert_exporter": "python",
   "pygments_lexer": "ipython3",
   "version": "3.9.15"
  },
  "orig_nbformat": 4
 },
 "nbformat": 4,
 "nbformat_minor": 2
}
